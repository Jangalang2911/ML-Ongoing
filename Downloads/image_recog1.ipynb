{
  "nbformat": 4,
  "nbformat_minor": 0,
  "metadata": {
    "colab": {
      "provenance": []
    },
    "kernelspec": {
      "name": "python3",
      "display_name": "Python 3"
    },
    "language_info": {
      "name": "python"
    },
    "accelerator": "GPU",
    "gpuClass": "standard"
  },
  "cells": [
    {
      "cell_type": "code",
      "execution_count": null,
      "metadata": {
        "id": "BJtuO77aR42u",
        "colab": {
          "base_uri": "https://localhost:8080/"
        },
        "outputId": "097e1b25-7950-41cb-9ba3-2323a9d38f35"
      },
      "outputs": [
        {
          "output_type": "stream",
          "name": "stdout",
          "text": [
            "fatal: destination path 'Facial-Expression-Dataset' already exists and is not an empty directory.\n",
            "Looking in indexes: https://pypi.org/simple, https://us-python.pkg.dev/colab-wheels/public/simple/\n",
            "Collecting git+https://github.com/albumentations-team/albumentations\n",
            "  Cloning https://github.com/albumentations-team/albumentations to /tmp/pip-req-build-dpzbf2ab\n",
            "  Running command git clone --filter=blob:none --quiet https://github.com/albumentations-team/albumentations /tmp/pip-req-build-dpzbf2ab\n",
            "  Resolved https://github.com/albumentations-team/albumentations to commit 9b0525f479509195a7a7b7c19311d8e63bbc6494\n",
            "  Preparing metadata (setup.py) ... \u001b[?25l\u001b[?25hdone\n",
            "Requirement already satisfied: numpy>=1.11.1 in /usr/local/lib/python3.9/dist-packages (from albumentations==1.3.0) (1.22.4)\n",
            "Requirement already satisfied: scipy>=1.1.0 in /usr/local/lib/python3.9/dist-packages (from albumentations==1.3.0) (1.10.1)\n",
            "Requirement already satisfied: scikit-image>=0.16.1 in /usr/local/lib/python3.9/dist-packages (from albumentations==1.3.0) (0.19.3)\n",
            "Requirement already satisfied: PyYAML in /usr/local/lib/python3.9/dist-packages (from albumentations==1.3.0) (6.0)\n",
            "Requirement already satisfied: qudida>=0.0.4 in /usr/local/lib/python3.9/dist-packages (from albumentations==1.3.0) (0.0.4)\n",
            "Requirement already satisfied: opencv-python>=4.1.1 in /usr/local/lib/python3.9/dist-packages (from albumentations==1.3.0) (4.6.0.66)\n",
            "Requirement already satisfied: opencv-python-headless>=4.0.1 in /usr/local/lib/python3.9/dist-packages (from qudida>=0.0.4->albumentations==1.3.0) (4.7.0.72)\n",
            "Requirement already satisfied: scikit-learn>=0.19.1 in /usr/local/lib/python3.9/dist-packages (from qudida>=0.0.4->albumentations==1.3.0) (1.2.2)\n",
            "Requirement already satisfied: typing-extensions in /usr/local/lib/python3.9/dist-packages (from qudida>=0.0.4->albumentations==1.3.0) (4.5.0)\n",
            "Requirement already satisfied: pillow!=7.1.0,!=7.1.1,!=8.3.0,>=6.1.0 in /usr/local/lib/python3.9/dist-packages (from scikit-image>=0.16.1->albumentations==1.3.0) (8.4.0)\n",
            "Requirement already satisfied: imageio>=2.4.1 in /usr/local/lib/python3.9/dist-packages (from scikit-image>=0.16.1->albumentations==1.3.0) (2.9.0)\n",
            "Requirement already satisfied: PyWavelets>=1.1.1 in /usr/local/lib/python3.9/dist-packages (from scikit-image>=0.16.1->albumentations==1.3.0) (1.4.1)\n",
            "Requirement already satisfied: networkx>=2.2 in /usr/local/lib/python3.9/dist-packages (from scikit-image>=0.16.1->albumentations==1.3.0) (3.0)\n",
            "Requirement already satisfied: tifffile>=2019.7.26 in /usr/local/lib/python3.9/dist-packages (from scikit-image>=0.16.1->albumentations==1.3.0) (2023.3.15)\n",
            "Requirement already satisfied: packaging>=20.0 in /usr/local/lib/python3.9/dist-packages (from scikit-image>=0.16.1->albumentations==1.3.0) (23.0)\n",
            "Requirement already satisfied: threadpoolctl>=2.0.0 in /usr/local/lib/python3.9/dist-packages (from scikit-learn>=0.19.1->qudida>=0.0.4->albumentations==1.3.0) (3.1.0)\n",
            "Requirement already satisfied: joblib>=1.1.1 in /usr/local/lib/python3.9/dist-packages (from scikit-learn>=0.19.1->qudida>=0.0.4->albumentations==1.3.0) (1.1.1)\n",
            "Looking in indexes: https://pypi.org/simple, https://us-python.pkg.dev/colab-wheels/public/simple/\n",
            "Requirement already satisfied: timm in /usr/local/lib/python3.9/dist-packages (0.6.12)\n",
            "Requirement already satisfied: torchvision in /usr/local/lib/python3.9/dist-packages (from timm) (0.14.1+cu116)\n",
            "Requirement already satisfied: torch>=1.7 in /usr/local/lib/python3.9/dist-packages (from timm) (1.13.1+cu116)\n",
            "Requirement already satisfied: pyyaml in /usr/local/lib/python3.9/dist-packages (from timm) (6.0)\n",
            "Requirement already satisfied: huggingface-hub in /usr/local/lib/python3.9/dist-packages (from timm) (0.13.2)\n",
            "Requirement already satisfied: typing-extensions in /usr/local/lib/python3.9/dist-packages (from torch>=1.7->timm) (4.5.0)\n",
            "Requirement already satisfied: filelock in /usr/local/lib/python3.9/dist-packages (from huggingface-hub->timm) (3.10.0)\n",
            "Requirement already satisfied: packaging>=20.9 in /usr/local/lib/python3.9/dist-packages (from huggingface-hub->timm) (23.0)\n",
            "Requirement already satisfied: requests in /usr/local/lib/python3.9/dist-packages (from huggingface-hub->timm) (2.27.1)\n",
            "Requirement already satisfied: tqdm>=4.42.1 in /usr/local/lib/python3.9/dist-packages (from huggingface-hub->timm) (4.65.0)\n",
            "Requirement already satisfied: pillow!=8.3.*,>=5.3.0 in /usr/local/lib/python3.9/dist-packages (from torchvision->timm) (8.4.0)\n",
            "Requirement already satisfied: numpy in /usr/local/lib/python3.9/dist-packages (from torchvision->timm) (1.22.4)\n",
            "Requirement already satisfied: idna<4,>=2.5 in /usr/local/lib/python3.9/dist-packages (from requests->huggingface-hub->timm) (3.4)\n",
            "Requirement already satisfied: certifi>=2017.4.17 in /usr/local/lib/python3.9/dist-packages (from requests->huggingface-hub->timm) (2022.12.7)\n",
            "Requirement already satisfied: charset-normalizer~=2.0.0 in /usr/local/lib/python3.9/dist-packages (from requests->huggingface-hub->timm) (2.0.12)\n",
            "Requirement already satisfied: urllib3<1.27,>=1.21.1 in /usr/local/lib/python3.9/dist-packages (from requests->huggingface-hub->timm) (1.26.15)\n",
            "Looking in indexes: https://pypi.org/simple, https://us-python.pkg.dev/colab-wheels/public/simple/\n",
            "Requirement already satisfied: opencv-contrib-python in /usr/local/lib/python3.9/dist-packages (4.7.0.72)\n",
            "Requirement already satisfied: numpy>=1.19.3 in /usr/local/lib/python3.9/dist-packages (from opencv-contrib-python) (1.22.4)\n"
          ]
        }
      ],
      "source": [
        "!git clone https://github.com/parth1620/Facial-Expression-Dataset.git\n",
        "!pip install -U git+https://github.com/albumentations-team/albumentations\n",
        "!pip install timm\n",
        "!pip install --upgrade opencv-contrib-python"
      ]
    },
    {
      "cell_type": "code",
      "source": [
        "#Libraries\n",
        "import numpy as np\n",
        "import matplotlib.pyplot as plt\n",
        "import torch\n",
        "import random\n",
        "import os\n",
        "\n",
        "from torchvision.datasets import ImageFolder\n",
        "from torchvision import transforms as T"
      ],
      "metadata": {
        "id": "YX_kdrj7SVVg"
      },
      "execution_count": null,
      "outputs": []
    },
    {
      "cell_type": "code",
      "source": [
        "TRAIN_IMG_FOLDER_PATH = '/content/Facial-Expression-Dataset/train'\n",
        "VALID_IMG_FOLDER_PATH = '/content/Facial-Expression-Dataset/validation'\n",
        "#Augmentations \n",
        "train_augs = T.Compose([\n",
        "    T.RandomHorizontalFlip(),\n",
        "    T.RandomRotation(degrees = (-20, 20)),\n",
        "    T.ToTensor()       #changes dimension from (height, width, channel) to (channel, width, height)\n",
        "])                                         #to prevent overfitting\n",
        "\n",
        "valid_augs = T.Compose([T.ToTensor()])"
      ],
      "metadata": {
        "id": "6Zf5gn_TSb_v"
      },
      "execution_count": null,
      "outputs": []
    },
    {
      "cell_type": "code",
      "source": [
        "trainset = ImageFolder(TRAIN_IMG_FOLDER_PATH, train_augs)\n",
        "validset = ImageFolder(VALID_IMG_FOLDER_PATH, valid_augs)"
      ],
      "metadata": {
        "id": "NlVJrZvlUQg8"
      },
      "execution_count": null,
      "outputs": []
    },
    {
      "cell_type": "code",
      "source": [
        "def print_random_image(trainset):\n",
        "  random.seed(60)\n",
        "  rand_idx = random.random()\n",
        "  rand_idx = rand_idx * len(trainset)\n",
        "\n",
        "  image, label = trainset[int(rand_idx)]\n",
        "  plt.imshow(image.permute(1, 2, 0)) # changing tensor format back for printing\n",
        "\n",
        "  for idx, emotion in enumerate(trainset.class_to_idx.keys()):\n",
        "    if idx == label:\n",
        "      label = emotion\n",
        "    plt.title(label)\n",
        "  plt.show()\n",
        "\n",
        "print_random_image(trainset)"
      ],
      "metadata": {
        "colab": {
          "base_uri": "https://localhost:8080/",
          "height": 281
        },
        "id": "Qo56uWScS5Py",
        "outputId": "06877de5-3627-4b6e-8195-74c42419563b"
      },
      "execution_count": null,
      "outputs": [
        {
          "output_type": "display_data",
          "data": {
            "text/plain": [
              "<Figure size 432x288 with 1 Axes>"
            ],
            "image/png": "[encoded data removed]"
          },
          "metadata": {
            "needs_background": "light"
          }
        }
      ]
    },
    {
      "cell_type": "code",
      "source": [
        "from pickle import TRUE\n",
        "# loading data\n",
        "DEVICE = 'cuda'\n",
        "MODEL_NAME = 'efficientnet_b0'\n",
        "\n",
        "LR = 0.001\n",
        "BATCH_SIZE = 32\n",
        "EPOCHS = 50\n",
        "\n",
        "from torch.utils.data import DataLoader\n",
        "\n",
        "trainloader = DataLoader(dataset = trainset, batch_size = BATCH_SIZE, shuffle = TRUE)\n",
        "validloader = DataLoader(dataset = validset, batch_size = BATCH_SIZE)\n",
        "\n",
        "for images, labels in trainloader: #fetching just one batch of images and labels; trainloader not subscriptable\n",
        "  break"
      ],
      "metadata": {
        "id": "q3zYFbqlWpZC"
      },
      "execution_count": null,
      "outputs": []
    },
    {
      "cell_type": "code",
      "source": [
        "import timm\n",
        "from torch import nn\n",
        "#the shizz\n",
        "\n",
        "class FaceModel(nn.Module):\n",
        "  def __init__(self) -> None:\n",
        "    super(FaceModel, self).__init__()\n",
        "\n",
        "    self.eff_net = timm.create_model(MODEL_NAME, pretrained = True, num_classes = 7)  # the model\n",
        "\n",
        "  def forward(self, image, labels = None):\n",
        "    logits = self.eff_net(image)\n",
        "\n",
        "    if labels is not None:\n",
        "      loss = nn.CrossEntropyLoss()(logits, labels)\n",
        "      return logits, loss\n",
        "\n",
        "    return logits"
      ],
      "metadata": {
        "id": "z6DnC1UOX-An"
      },
      "execution_count": null,
      "outputs": []
    },
    {
      "cell_type": "code",
      "source": [
        "#model usage\n",
        "model = FaceModel()\n",
        "model.to(DEVICE)"
      ],
      "metadata": {
        "id": "axa5yhy_dKhz"
      },
      "execution_count": null,
      "outputs": []
    },
    {
      "cell_type": "code",
      "source": [
        "from tqdm import tqdm\n",
        "\n",
        "def multiclass_accuracy(y_pred, y_true):\n",
        "  top_p, top_class = y_pred.topk(1, dim = 1)\n",
        "  equals = top_class == y_true.view(*top_class.shape)\n",
        "  return torch.mean(equals.type(torch.FloatTensor))\n",
        "\n",
        "def training_fn(model, dataloader, optimizer, curr_epo):\n",
        "  model.train()\n",
        "  total_loss = 0.0\n",
        "  total_acc = 0.0\n",
        "  token = tqdm(dataloader, desc = \"EPOCH\" + \"[TRAIN]\" + str(curr_epo + 1) + \"/\" + str(EPOCHS))\n",
        "  \n",
        "  for t, data in enumerate(token):\n",
        "    images, labels = data\n",
        "    images, labels = images.to(DEVICE), labels.to(DEVICE)\n",
        "\n",
        "    optimizer.zero_grad()\n",
        "    logits, loss = model(images, labels)\n",
        "    loss.backward()\n",
        "    optimizer.step()\n",
        "\n",
        "    total_loss += loss.item()\n",
        "    total_acc += multiclass_accuracy(logits, labels)\n",
        "    token.set_postfix({'loss' : '%f' %float(total_loss/(t+1)), 'acc' : '%f' %float(total_acc/(t+1))})\n",
        "\n",
        "  return total_loss/len(dataloader), total_acc/len(dataloader)\n",
        "\n",
        "  "
      ],
      "metadata": {
        "id": "pcc1W3fIdhey"
      },
      "execution_count": null,
      "outputs": []
    },
    {
      "cell_type": "code",
      "source": [
        "def eval_fn(model, dataloader, curr_epo):\n",
        "    model.eval()\n",
        "    total_loss = 0.0\n",
        "    total_acc = 0.0\n",
        "    token = tqdm(dataloader, desc = \"EPOCH\" + \"[TRAIN]\" + str(curr_epo + 1) + \"/\" + str(EPOCHS))\n",
        "  \n",
        "    for t, data in enumerate(token):\n",
        "       images, labels = data\n",
        "       images, labels = images.to(DEVICE), labels.to(DEVICE)\n",
        "\n",
        "       logits, loss = model(images, labels)\n",
        "\n",
        "       total_loss += loss.item()\n",
        "       total_acc += multiclass_accuracy(logits, labels)\n",
        "       token.set_postfix({'loss' : '%f' %float(total_loss/(t+1)), 'acc' : '%f' %float(total_acc/(t+1))})\n",
        "\n",
        "    return total_loss/len(dataloader), total_acc/len(dataloader)"
      ],
      "metadata": {
        "id": "oLOu60HpsJ7U"
      },
      "execution_count": null,
      "outputs": []
    },
    {
      "cell_type": "code",
      "source": [
        "#Training loop\n",
        "\n",
        "optimizer = torch.optim.Adam(model.parameters(), lr = LR)\n",
        "\n",
        "best_valid_loss = np.Inf\n",
        "\n",
        "for i in range(EPOCHS):\n",
        "  training_loss, training_acc = training_fn(model, trainloader, optimizer, i)\n",
        "  valid_loss, valid_acc = eval_fn(model, validloader, i)\n",
        "  \n",
        "  if valid_loss < best_valid_loss:\n",
        "    torch.save(model.state_dict(), 'best_weights.pt') #saving the parameters of the best iteration yet\n",
        "    print(\"Saved best weights\")\n",
        "    best_valid_loss = valid_loss \n",
        "\n"
      ],
      "metadata": {
        "id": "AFUncAK7p1i-"
      },
      "execution_count": null,
      "outputs": []
    }
  ]
}